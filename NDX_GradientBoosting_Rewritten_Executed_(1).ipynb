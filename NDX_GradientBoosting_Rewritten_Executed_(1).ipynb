{
  "cells": [
    {
      "cell_type": "markdown",
      "metadata": {
        "id": "view-in-github",
        "colab_type": "text"
      },
      "source": [
        "<a href=\"https://colab.research.google.com/github/EmmaMuhleman1/Adv_Fin_ML_Exercises/blob/master/NDX_GradientBoosting_Rewritten_Executed_(1).ipynb\" target=\"_parent\"><img src=\"https://colab.research.google.com/assets/colab-badge.svg\" alt=\"Open In Colab\"/></a>"
      ]
    },
    {
      "cell_type": "markdown",
      "id": "6d8aebac",
      "metadata": {
        "id": "6d8aebac"
      },
      "source": [
        "# NDX Gradient Boosting Final Report\n",
        "\n",
        "This notebook executes the complete predictive modeling pipeline on the Nasdaq-100 index, using XGBoost and confidence-weighted strategy backtesting."
      ]
    },
    {
      "cell_type": "code",
      "execution_count": null,
      "id": "48b09ef1",
      "metadata": {
        "id": "48b09ef1"
      },
      "outputs": [],
      "source": [
        "import pandas as pd\n",
        "import numpy as np\n",
        "import matplotlib.pyplot as plt\n",
        "import seaborn as sns\n",
        "import yfinance as yf\n",
        "from sklearn.model_selection import train_test_split, TimeSeriesSplit, RandomizedSearchCV\n",
        "from sklearn.metrics import (roc_auc_score, roc_curve, accuracy_score,\n",
        "                             confusion_matrix, classification_report, auc)\n",
        "from xgboost import XGBClassifier\n",
        "import shap\n",
        "import warnings\n",
        "warnings.filterwarnings('ignore')\n",
        "sns.set(style='whitegrid', context='notebook')"
      ]
    },
    {
      "cell_type": "code",
      "execution_count": null,
      "id": "fd2a71a9",
      "metadata": {
        "id": "fd2a71a9"
      },
      "outputs": [],
      "source": [
        "df = yf.download('^NDX', start='2008-01-01', progress=False).reset_index()\n",
        "df.columns = df.columns.str.title()\n",
        "df['Return'] = df['Close'].pct_change()\n",
        "df['Target'] = (df['Return'].shift(-1) > 0.0025).astype(int)"
      ]
    },
    {
      "cell_type": "code",
      "execution_count": null,
      "id": "8bfb833e",
      "metadata": {
        "id": "8bfb833e"
      },
      "outputs": [],
      "source": [
        "for n in [1, 5, 10, 15, 20]:\n",
        "    df[f'Return_Lag_{n}'] = df['Close'].pct_change(n)\n",
        "df['Volatility_10'] = df['Return'].rolling(10).std()\n",
        "df['Volatility_20'] = df['Return'].rolling(20).std()\n",
        "range_pct = (df['High'] - df['Low']) / df['Close']\n",
        "df['Range_Z'] = (range_pct - range_pct.rolling(20).mean()) / range_pct.rolling(20).std()\n",
        "df['Volume_Z'] = (df['Volume'] - df['Volume'].rolling(20).mean()) / df['Volume'].rolling(20).std()\n",
        "df['MA50_Diff'] = df['Close'] / df['Close'].rolling(50).mean() - 1\n",
        "df['MA200_Diff'] = df['Close'] / df['Close'].rolling(200).mean() - 1\n",
        "delta = df['Close'].diff()\n",
        "gain = delta.where(delta > 0, 0).rolling(14).mean()\n",
        "loss = -delta.where(delta < 0, 0).rolling(14).mean()\n",
        "rs = gain / loss\n",
        "df['RSI'] = 100 - (100 / (1 + rs))\n",
        "df['Close_Position'] = (df['Close'] - df['Low']) / (df['High'] - df['Low'])\n",
        "df['Weekday'] = df['Date'].dt.dayofweek\n",
        "df['Month'] = df['Date'].dt.month\n",
        "df = pd.get_dummies(df, columns=['Weekday', 'Month'], drop_first=True)\n",
        "df.dropna(inplace=True)"
      ]
    },
    {
      "cell_type": "code",
      "execution_count": null,
      "id": "ad541d52",
      "metadata": {
        "id": "ad541d52"
      },
      "outputs": [],
      "source": [
        "features = [col for col in df.columns if col.startswith(('Return_Lag_', 'Volatility_', 'Range_Z',\n",
        "           'Volume_Z', 'MA50_Diff', 'MA200_Diff', 'RSI', 'Close_Position', 'Weekday_', 'Month_'))]\n",
        "X = df[features]\n",
        "y = df['Target']\n",
        "X_train, X_test, y_train, y_test = train_test_split(X, y, shuffle=False, test_size=0.2)"
      ]
    },
    {
      "cell_type": "code",
      "execution_count": null,
      "id": "0d3da700",
      "metadata": {
        "id": "0d3da700"
      },
      "outputs": [],
      "source": [
        "baseline_model = XGBClassifier(use_label_encoder=False, eval_metric='logloss', random_state=42)\n",
        "baseline_model.fit(X_train, y_train)\n",
        "train_preds = baseline_model.predict(X_train)\n",
        "test_preds = baseline_model.predict(X_test)\n",
        "train_acc = accuracy_score(y_train, train_preds)\n",
        "test_acc = accuracy_score(y_test, test_preds)\n",
        "print(f\"Training Accuracy: {train_acc:.4f}\")\n",
        "print(f\"Test Accuracy: {test_acc:.4f}\")"
      ]
    },
    {
      "cell_type": "code",
      "execution_count": null,
      "id": "db53e31e",
      "metadata": {
        "id": "db53e31e"
      },
      "outputs": [],
      "source": [
        "explainer = shap.TreeExplainer(baseline_model)\n",
        "shap_values = explainer.shap_values(X_test)\n",
        "shap.summary_plot(shap_values, X_test)"
      ]
    }
  ],
  "metadata": {
    "colab": {
      "provenance": [],
      "include_colab_link": true
    }
  },
  "nbformat": 4,
  "nbformat_minor": 5
}